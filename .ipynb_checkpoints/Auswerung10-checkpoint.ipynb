{
 "metadata": {
  "name": "",
  "signature": "sha256:21a338cbd2b22e1049a592231bab8fc21db5c299210559f42c08cbd963980ee0"
 },
 "nbformat": 3,
 "nbformat_minor": 0,
 "worksheets": [
  {
   "cells": [
    {
     "cell_type": "code",
     "collapsed": false,
     "input": [
      "import math\n",
      "import maabara as ma\n",
      "from numpy import array\n",
      "from uncertainties import ufloat"
     ],
     "language": "python",
     "metadata": {},
     "outputs": [],
     "prompt_number": 4
    },
    {
     "cell_type": "code",
     "collapsed": false,
     "input": [
      "def pTex(x):\n",
      "    return \"$\"+str(ufloat(x[0],x[1])).replace(\"+/-\",\" \\pm \")+\"$\"\n",
      "def pTex2(x,n):\n",
      "    return pTex([x[0]*math.pow(10,n),x[1]*math.pow(10,n)])"
     ],
     "language": "python",
     "metadata": {},
     "outputs": [],
     "prompt_number": 5
    },
    {
     "cell_type": "heading",
     "level": 2,
     "metadata": {},
     "source": [
      "Epsilon0 aus der zweiten Messung"
     ]
    },
    {
     "cell_type": "code",
     "collapsed": false,
     "input": [
      "d = [2,2.5,3,4]#mm\n",
      "delta = 0.595 #mm\n",
      "d_sigma = math.sqrt(0.022**2+0.01**2) #mm\n",
      "#Ursprungsgerade\n",
      "k1 = [[0.00226336,4.559e-5],\\\n",
      "      [0.00167985,2.57e-5],\\\n",
      "      [0.00128825,2.152e-5],\\\n",
      "      [0.000870103,2.248e-05]]\n",
      "#mx+b\n",
      "k2 = [[0.00210314,1.483e-05],\\\n",
      "      [0.00161026,6.279e-05],\\\n",
      "      [0.0012184,4.187e-05],\\\n",
      "      [0.000793339,9.385e-06]]\n",
      "\n",
      "epsilon0 = []\n",
      "epsilon0_erg = []\n",
      "for i in range(len(d)):\n",
      "    epsilon0.append(ma.uncertainty.Sheet(\"2*d**2/a*k\",\"\\\\varepsilon_0\"))\n",
      "    epsilon0[i].v('d',(d[i]+delta)*1e-3,d_sigma*1e-3, 'd_w')\n",
      "    epsilon0[i].v('a',5.152e-3,tex=\"A\")\n",
      "    epsilon0[i].v('k',k1[i][0]*1e-6,k1[i][1]*1e-6)\n",
      "    epsilon0_erg.append(epsilon0[i].get_result())\n",
      "    print pTex([d[i],0.01]),\"&\", pTex([d[i]+delta,d_sigma]),\"&\",pTex(k1[i]),\"&\",pTex(epsilon0_erg[i]),\"\\\\\\\\\"\n",
      "print \"\\n\",pTex(ma.data.weighted_average(epsilon0_erg))"
     ],
     "language": "python",
     "metadata": {},
     "outputs": [
      {
       "output_type": "stream",
       "stream": "stdout",
       "text": [
        "$2.000 \\pm 0.010$ & $2.595 \\pm 0.024$ & $0.00226 \\pm 0.00005$ & $(5.92 \\pm 0.16)e-12$ \\\\\n",
        "$2.500 \\pm 0.010$"
       ]
      },
      {
       "output_type": "stream",
       "stream": "stdout",
       "text": [
        " & $3.095 \\pm 0.024$ & $0.001680 \\pm 0.000026$ & $(6.25 \\pm 0.14)e-12$ \\\\\n",
        "$3.000 \\pm 0.010$"
       ]
      },
      {
       "output_type": "stream",
       "stream": "stdout",
       "text": [
        " & $3.595 \\pm 0.024$ & $0.001288 \\pm 0.000022$ & $(6.46 \\pm 0.14)e-12$ \\\\\n",
        "$4.000 \\pm 0.010$"
       ]
      },
      {
       "output_type": "stream",
       "stream": "stdout",
       "text": [
        " & $4.595 \\pm 0.024$ & $0.000870 \\pm 0.000022$ & $(7.13 \\pm 0.20)e-12$ \\\\\n",
        "\n",
        "$(6.37 \\pm 0.08)e-12$\n"
       ]
      }
     ],
     "prompt_number": 6
    },
    {
     "cell_type": "code",
     "collapsed": false,
     "input": [],
     "language": "python",
     "metadata": {},
     "outputs": [],
     "prompt_number": 6
    }
   ],
   "metadata": {}
  }
 ]
}