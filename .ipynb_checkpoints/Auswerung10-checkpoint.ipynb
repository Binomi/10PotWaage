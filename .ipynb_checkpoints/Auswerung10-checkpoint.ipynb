{
 "metadata": {
  "name": "",
  "signature": "sha256:e703a7cd53bdef27a803549f443efd012b116aaa92b5636178d77f8916613292"
 },
 "nbformat": 3,
 "nbformat_minor": 0,
 "worksheets": [
  {
   "cells": [
    {
     "cell_type": "code",
     "collapsed": false,
     "input": [
      "import maabara as ma"
     ],
     "language": "python",
     "metadata": {},
     "outputs": [],
     "prompt_number": 3
    },
    {
     "cell_type": "heading",
     "level": 2,
     "metadata": {},
     "source": [
      "Epsilon0 aus der zweiten Messung"
     ]
    },
    {
     "cell_type": "code",
     "collapsed": false,
     "input": [
      "d = [2,2.5,3,4]#mm\n",
      "delta = -0.595 #mm\n",
      "d_sigma = 0.032 #mm\n",
      "#Ursprungsgerade\n",
      "k1 = [[0.00226336,4.559e-5],\\\n",
      "      [0.00167985,2.57e-5],\\\n",
      "      [0.00128825,2.152e-5],\\\n",
      "      [0.000870103,2.248e-05]]\n",
      "#mx+b\n",
      "k2 = [[0.00210314,1.483e-05],\\\n",
      "      [0.00161026,6.279e-05],\\\n",
      "      [0.0012184,4.187e-05],\\\n",
      "      [0.000793339,9.385e-06]]\n",
      "\n",
      "epsilon0 = []\n",
      "for i in range(len(d)):\n",
      "    epsilon0.append(ma.uncertainty.Sheet(\"2*d**2/a*k\",\"\\\\varepsilon_0\"))\n",
      "    epsilon0[i].v('d',(d[i]+delta)*1e-3,d_sigma*1e-3)\n",
      "    epsilon0[i].v('a',5.152e-3,tex=\"A\")\n",
      "    epsilon0[i].v('k',k1[i][0]*1e-6,k1[i][1]*1e-6)\n",
      "    print epsilon0[i].get_result()"
     ],
     "language": "python",
     "metadata": {},
     "outputs": [
      {
       "output_type": "stream",
       "stream": "stdout",
       "text": [
        "(1.7344445745341614e-12, 8.638637138567744e-14)\n",
        "(2.3665441173330742e-12, 8.736160212901321e-14)"
       ]
      },
      {
       "output_type": "stream",
       "stream": "stdout",
       "text": [
        "\n",
        "(2.892573837829969e-12, 9.088432007948221e-14)"
       ]
      },
      {
       "output_type": "stream",
       "stream": "stdout",
       "text": [
        "\n",
        "(3.916147490130046e-12, 1.2511986669055565e-13)"
       ]
      },
      {
       "output_type": "stream",
       "stream": "stdout",
       "text": [
        "\n"
       ]
      }
     ],
     "prompt_number": 45
    },
    {
     "cell_type": "code",
     "collapsed": false,
     "input": [
      "#Werte f\u00fcr k2\n",
      "#(1.6116657369953416e-12, 7.428835216416133e-14)\n",
      "#(2.2685069085791924e-12, 1.1676061864047476e-13)\n",
      "#(2.7357360481366464e-12, 1.1890519713987177e-13)\n",
      "#(3.5706491457589285e-12, 7.929963560810543e-14)"
     ],
     "language": "python",
     "metadata": {},
     "outputs": [],
     "prompt_number": 41
    },
    {
     "cell_type": "code",
     "collapsed": false,
     "input": [
      "print epsilon0[0].print_result()"
     ],
     "language": "python",
     "metadata": {},
     "outputs": [
      {
       "latex": [
        "$$\\varepsilon_0=\\frac{2}{A} \\cdot d^{2} \\cdot k$$"
       ],
       "metadata": {},
       "output_type": "display_data",
       "text": [
        "<IPython.core.display.Math at 0xc218330>"
       ]
      },
      {
       "output_type": "stream",
       "stream": "stdout",
       "text": [
        "\\varepsilon_0=\\frac{2}{A} \\cdot d^{2} \\cdot k\n",
        "\n"
       ]
      },
      {
       "latex": [
        "$$\\varepsilon_0=\\left(1.73 \\pm 0.09\\right) \\times 10^{-12}$$"
       ],
       "metadata": {},
       "output_type": "display_data",
       "text": [
        "<IPython.core.display.Math at 0xc218510>"
       ]
      },
      {
       "output_type": "stream",
       "stream": "stdout",
       "text": [
        "\\varepsilon_0=\\left(1.73 \\pm 0.09\\right) \\times 10^{-12}\n",
        "\n"
       ]
      },
      {
       "latex": [
        "$$\\sigma_{\\varepsilon_0}=\\frac{2}{A} \\cdot d \\cdot \\sqrt{d^{2} \\cdot \\sigma_{k}^{2} + 4 \\cdot k^{2} \\cdot \\sigma_{d}^{2}}$$"
       ],
       "metadata": {},
       "output_type": "display_data",
       "text": [
        "<IPython.core.display.Math at 0xc218450>"
       ]
      },
      {
       "output_type": "stream",
       "stream": "stdout",
       "text": [
        "\\sigma_{\\varepsilon_0}=\\frac{2}{A} \\cdot d \\cdot \\sqrt{d^{2} \\cdot \\sigma_{k}^{2} + 4 \\cdot k^{2} \\cdot \\sigma_{d}^{2}}\n",
        "\n",
        "(1.73+/-0.09)e-12\n"
       ]
      }
     ],
     "prompt_number": 46
    },
    {
     "cell_type": "code",
     "collapsed": false,
     "input": [],
     "language": "python",
     "metadata": {},
     "outputs": []
    }
   ],
   "metadata": {}
  }
 ]
}