{
 "metadata": {
  "name": "",
  "signature": "sha256:77efc8ab6367ba7e15e110e9c3020af71a0b5fa2bd8c9bce692d2005c3e9d94d"
 },
 "nbformat": 3,
 "nbformat_minor": 0,
 "worksheets": [
  {
   "cells": [
    {
     "cell_type": "code",
     "collapsed": false,
     "input": [
      "import maabara as ma\n",
      "from numpy import array\n",
      "from uncertainties import ufloat"
     ],
     "language": "python",
     "metadata": {},
     "outputs": [],
     "prompt_number": 17
    },
    {
     "cell_type": "code",
     "collapsed": false,
     "input": [
      "def pTex(x):\n",
      "    return \"$\"+str(ufloat(x[0],x[1])).replace(\"+/-\",\" \\pm \")+\"$\"\n",
      "def pTex2(x,n):\n",
      "    return pTex([x[0]*math.pow(10,n),x[1]*math.pow(10,n)])"
     ],
     "language": "python",
     "metadata": {},
     "outputs": [],
     "prompt_number": 16
    },
    {
     "cell_type": "heading",
     "level": 2,
     "metadata": {},
     "source": [
      "Epsilon0 aus der zweiten Messung"
     ]
    },
    {
     "cell_type": "code",
     "collapsed": false,
     "input": [
      "d = [2,2.5,3,4]#mm\n",
      "delta = 0.595 #mm\n",
      "d_sigma = 0.032 #mm\n",
      "#Ursprungsgerade\n",
      "k1 = [[0.00226336,4.559e-5],\\\n",
      "      [0.00167985,2.57e-5],\\\n",
      "      [0.00128825,2.152e-5],\\\n",
      "      [0.000870103,2.248e-05]]\n",
      "#mx+b\n",
      "k2 = [[0.00210314,1.483e-05],\\\n",
      "      [0.00161026,6.279e-05],\\\n",
      "      [0.0012184,4.187e-05],\\\n",
      "      [0.000793339,9.385e-06]]\n",
      "\n",
      "epsilon0 = []\n",
      "epsilon0_erg 0 []\n",
      "for i in range(len(d)):\n",
      "    epsilon0.append(ma.uncertainty.Sheet(\"2*d**2/a*k\",\"\\\\varepsilon_0\"))\n",
      "    epsilon0[i].v('d',(d[i]+delta)*1e-3,d_sigma*1e-3, 'd_w')\n",
      "    epsilon0[i].v('a',5.152e-3,tex=\"A\")\n",
      "    epsilon0[i].v('k',k1[i][0]*1e-6,k1[i][1]*1e-6)\n",
      "    print pTex(epsilon0[i].get_result())"
     ],
     "language": "python",
     "metadata": {},
     "outputs": [
      {
       "output_type": "stream",
       "stream": "stdout",
       "text": [
        "$(5.92 \\pm 0.19)e-12$\n",
        "$(6.25 \\pm 0.16)e-12$"
       ]
      },
      {
       "output_type": "stream",
       "stream": "stdout",
       "text": [
        "\n",
        "$(6.46 \\pm 0.16)e-12$"
       ]
      },
      {
       "output_type": "stream",
       "stream": "stdout",
       "text": [
        "\n",
        "$(7.13 \\pm 0.21)e-12$"
       ]
      },
      {
       "output_type": "stream",
       "stream": "stdout",
       "text": [
        "\n"
       ]
      }
     ],
     "prompt_number": 18
    },
    {
     "cell_type": "code",
     "collapsed": false,
     "input": [
      "#Werte f\u00fcr k2\n",
      "#(1.6116657369953416e-12, 7.428835216416133e-14)\n",
      "#(2.2685069085791924e-12, 1.1676061864047476e-13)\n",
      "#(2.7357360481366464e-12, 1.1890519713987177e-13)\n",
      "#(3.5706491457589285e-12, 7.929963560810543e-14)"
     ],
     "language": "python",
     "metadata": {},
     "outputs": [],
     "prompt_number": 4
    },
    {
     "cell_type": "code",
     "collapsed": false,
     "input": [
      "print epsilon0[0].print_result()"
     ],
     "language": "python",
     "metadata": {},
     "outputs": [
      {
       "latex": [
        "$$\\varepsilon_0=\\frac{2}{A} \\cdot d_w^{2} \\cdot k$$"
       ],
       "metadata": {},
       "output_type": "display_data",
       "text": [
        "<IPython.core.display.Math at 0x55e0f90>"
       ]
      },
      {
       "output_type": "stream",
       "stream": "stdout",
       "text": [
        "\\varepsilon_0=\\frac{2}{A} \\cdot d_w^{2} \\cdot k\n",
        "\n"
       ]
      },
      {
       "latex": [
        "$$\\varepsilon_0=\\left(5.9 \\pm 0.2\\right) \\times 10^{-12}$$"
       ],
       "metadata": {},
       "output_type": "display_data",
       "text": [
        "<IPython.core.display.Math at 0x55e0b30>"
       ]
      },
      {
       "output_type": "stream",
       "stream": "stdout",
       "text": [
        "\\varepsilon_0=\\left(5.9 \\pm 0.2\\right) \\times 10^{-12}\n",
        "\n"
       ]
      },
      {
       "latex": [
        "$$\\sigma_{\\varepsilon_0}=\\frac{2}{A} \\cdot d_w \\cdot \\sqrt{d_w^{2} \\cdot \\sigma_{k}^{2} + 4 \\cdot k^{2} \\cdot \\sigma_{d_w}^{2}}$$"
       ],
       "metadata": {},
       "output_type": "display_data",
       "text": [
        "<IPython.core.display.Math at 0x55e0b50>"
       ]
      },
      {
       "output_type": "stream",
       "stream": "stdout",
       "text": [
        "\\sigma_{\\varepsilon_0}=\\frac{2}{A} \\cdot d_w \\cdot \\sqrt{d_w^{2} \\cdot \\sigma_{k}^{2} + 4 \\cdot k^{2} \\cdot \\sigma_{d_w}^{2}}\n",
        "\n",
        "(5.92+/-0.19)e-12\n"
       ]
      }
     ],
     "prompt_number": 7
    },
    {
     "cell_type": "code",
     "collapsed": false,
     "input": [],
     "language": "python",
     "metadata": {},
     "outputs": [],
     "prompt_number": 5
    }
   ],
   "metadata": {}
  }
 ]
}